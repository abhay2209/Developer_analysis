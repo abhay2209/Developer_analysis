{
 "cells": [
  {
   "cell_type": "code",
   "execution_count": 58,
   "id": "25ed8a00",
   "metadata": {},
   "outputs": [],
   "source": [
    "import pandas as pd\n",
    "import constants as cs\n",
    "import numpy as np\n",
    "import matplotlib.pyplot as plt\n",
    "import zipfile\n",
    "from sklearn.neighbors import KNeighborsRegressor\n",
    "from sklearn.model_selection import train_test_split, GridSearchCV, ParameterGrid\n",
    "from sklearn.metrics import mean_squared_error, r2_score, mean_absolute_error, make_scorer\n",
    "from sklearn.pipeline import make_pipeline\n",
    "from sklearn.ensemble import RandomForestRegressor, GradientBoostingRegressor\n",
    "from sklearn.svm import SVR\n",
    "from sklearn.preprocessing import StandardScaler\n",
    "from sklearn.compose import TransformedTargetRegressor\n",
    "from sklearn.neural_network import MLPRegressor\n",
    "import joblib\n",
    "from sklearn.ensemble import VotingRegressor"
   ]
  },
  {
   "cell_type": "code",
   "execution_count": 59,
   "id": "4352752f",
   "metadata": {},
   "outputs": [],
   "source": [
    "def load_data(filename: str) -> pd.DataFrame:\n",
    "    with zipfile.ZipFile(f\"../{filename}.zip\") as data_zip:\n",
    "        with data_zip.open(f\"{filename}.csv\") as developer_data:\n",
    "            return pd.read_csv(developer_data)\n"
   ]
  },
  {
   "cell_type": "code",
   "execution_count": 60,
   "id": "f1b19bc2",
   "metadata": {},
   "outputs": [],
   "source": [
    "def custom_accuracy_score(y_true, y_pred):\n",
    "        accuracy_count = 0\n",
    "        y_true = np.array(y_true, dtype='float64')\n",
    "        for true_val, pred_val in zip(y_true, y_pred):\n",
    "            if abs(true_val - pred_val) <= 20000:\n",
    "                accuracy_count += 1\n",
    "\n",
    "        accuracy = accuracy_count / len(y_true)\n",
    "        return accuracy"
   ]
  },
  {
   "cell_type": "code",
   "execution_count": 61,
   "id": "93e1ed6b",
   "metadata": {},
   "outputs": [],
   "source": [
    "def modelPredictAndScore(X_valid, y_valid, model, modelName):\n",
    "    custom_score_valid = custom_accuracy_score(y_valid, model.predict(X_valid))\n",
    "#     Calculate Root Mean Square Error (RMSE) for training and validation data\n",
    "    rmse_valid = np.sqrt(mean_squared_error(y_valid, model.predict(X_valid)))\n",
    "\n",
    "    print(f\"{modelName} accuracy is:{custom_score_valid}\")\n",
    "    print(f\"{modelName} root mean square is:{rmse_valid}\")\n"
   ]
  },
  {
   "cell_type": "code",
   "execution_count": 62,
   "id": "75f4959a",
   "metadata": {},
   "outputs": [
    {
     "name": "stdout",
     "output_type": "stream",
     "text": [
      "       CompTotal\n",
      "0   93823.979947\n",
      "1  172636.123103\n",
      "2  112588.775936\n",
      "3   73000.000000\n",
      "4  117092.326974\n",
      "Random_forest_models accuracy is:0.3864528795811518\n",
      "Random_forest_models root mean square is:198685.65710284893\n",
      "SVR_models accuracy is:0.41492146596858637\n",
      "SVR_models root mean square is:198047.07757991535\n",
      "Random_forest_models accuracy is:0.40346858638743455\n",
      "Random_forest_models root mean square is:220798.07283953435\n",
      "XGBoost_models accuracy is:0.393651832460733\n",
      "XGBoost_models root mean square is:211061.05853955593\n"
     ]
    }
   ],
   "source": [
    "na_data = load_data(cs.NA_TRAIN_DATA)\n",
    "X_valid = load_data(cs.X_VALID)\n",
    "y_valid = load_data(cs.Y_VALID)\n",
    "print(y_valid.head(5))\n",
    "\n",
    "scaler_model = joblib.load(f'{cs.ML_MODELS_FOLDER}/scaler.pkl')\n",
    "svr_model = joblib.load(f'{cs.ML_MODELS_FOLDER}/{cs.BEST_SVR_MODELS}.pkl')\n",
    "rf_model = joblib.load(f'{cs.ML_MODELS_FOLDER}/{cs.BEST_RF_MODELS}.pkl')\n",
    "gb_model = joblib.load(f'{cs.ML_MODELS_FOLDER}/{cs.BEST_GB_MODELS}.pkl')\n",
    "xgboost_model = joblib.load(f'{cs.ML_MODELS_FOLDER}/{cs.BEST_XGBOOST_MODELS}.pkl')\n",
    "\n",
    "modelPredictAndScore(X_valid, y_valid, rf_model, cs.RANDOM_FOREST_MODELS)\n",
    "X_valid_scaled = scaler_model.transform(X_valid)\n",
    "modelPredictAndScore(X_valid_scaled, y_valid, svr_model, cs.SVR_MODELS)\n",
    "modelPredictAndScore(X_valid, y_valid, gb_model, cs.GB_MODELS)\n",
    "modelPredictAndScore(X_valid, y_valid, xgboost_model, cs.XGBOOST_MODELS)"
   ]
  },
  {
   "cell_type": "code",
   "execution_count": 82,
   "id": "37da133a",
   "metadata": {},
   "outputs": [],
   "source": [
    "voting_regressor = VotingRegressor(\n",
    "    estimators=[('rf', rf_model), ('gb', gb_model), ('xgboost', xgboost_model), ('svr', svr_model)]\n",
    ")"
   ]
  },
  {
   "cell_type": "code",
   "execution_count": 83,
   "id": "0c4a7aa0",
   "metadata": {},
   "outputs": [
    {
     "data": {
      "text/plain": [
       "VotingRegressor(estimators=[('rf',\n",
       "                             RandomForestRegressor(max_depth=125,\n",
       "                                                   min_samples_leaf=10,\n",
       "                                                   n_estimators=150)),\n",
       "                            ('gb',\n",
       "                             GradientBoostingRegressor(learning_rate=0.05,\n",
       "                                                       max_depth=5)),\n",
       "                            ('xgboost',\n",
       "                             XGBRegressor(base_score=None, booster=None,\n",
       "                                          callbacks=None,\n",
       "                                          colsample_bylevel=None,\n",
       "                                          colsample_bynode=None,\n",
       "                                          colsample_bytree=None,\n",
       "                                          early_stopping_rounds=None,\n",
       "                                          enable_categor...\n",
       "                                          interaction_constraints=None,\n",
       "                                          learning_rate=0.05, max_bin=None,\n",
       "                                          max_cat_threshold=None,\n",
       "                                          max_cat_to_onehot=None,\n",
       "                                          max_delta_step=None, max_depth=5,\n",
       "                                          max_leaves=None,\n",
       "                                          min_child_weight=None, missing=nan,\n",
       "                                          monotone_constraints=None,\n",
       "                                          n_estimators=100, n_jobs=None,\n",
       "                                          num_parallel_tree=None,\n",
       "                                          predictor=None, random_state=None, ...)),\n",
       "                            ('svr', SVR(C=100, gamma='auto', kernel='linear'))])"
      ]
     },
     "execution_count": 83,
     "metadata": {},
     "output_type": "execute_result"
    }
   ],
   "source": [
    "X_train = load_data('X_train_data')\n",
    "y_train = load_data('y_train_data')\n",
    "y_train = y_train.values.ravel()\n",
    "voting_regressor.fit(X_train, y_train)"
   ]
  },
  {
   "cell_type": "code",
   "execution_count": 84,
   "id": "64b66e7a",
   "metadata": {},
   "outputs": [
    {
     "name": "stdout",
     "output_type": "stream",
     "text": [
      "Voting Classifier accuracy is:0.43913612565445026\n",
      "Voting Classifier root mean square is:125021.71423185374\n"
     ]
    }
   ],
   "source": [
    "modelPredictAndScore(X_valid, y_valid, voting_regressor, \"Voting Classifier\")"
   ]
  },
  {
   "cell_type": "code",
   "execution_count": null,
   "id": "a6de5a6a",
   "metadata": {},
   "outputs": [],
   "source": []
  }
 ],
 "metadata": {
  "kernelspec": {
   "display_name": "Python 3 (ipykernel)",
   "language": "python",
   "name": "python3"
  },
  "language_info": {
   "codemirror_mode": {
    "name": "ipython",
    "version": 3
   },
   "file_extension": ".py",
   "mimetype": "text/x-python",
   "name": "python",
   "nbconvert_exporter": "python",
   "pygments_lexer": "ipython3",
   "version": "3.9.17"
  }
 },
 "nbformat": 4,
 "nbformat_minor": 5
}
