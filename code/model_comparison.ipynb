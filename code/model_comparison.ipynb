{
 "cells": [
  {
   "cell_type": "code",
   "execution_count": 1,
   "id": "581b92d3",
   "metadata": {},
   "outputs": [],
   "source": [
    "import pandas as pd\n",
    "import constants as cs\n",
    "import numpy as np\n",
    "import matplotlib.pyplot as plt\n",
    "import zipfile\n",
    "from sklearn.neighbors import KNeighborsRegressor\n",
    "from sklearn.model_selection import train_test_split, GridSearchCV, ParameterGrid\n",
    "from sklearn.metrics import mean_squared_error, r2_score, mean_absolute_error, make_scorer\n",
    "from sklearn.pipeline import make_pipeline\n",
    "from sklearn.ensemble import RandomForestRegressor, GradientBoostingRegressor\n",
    "from sklearn.svm import SVR\n",
    "from sklearn.preprocessing import StandardScaler\n",
    "from sklearn.compose import TransformedTargetRegressor\n",
    "from sklearn.neural_network import MLPRegressor\n",
    "import joblib\n",
    "from sklearn.ensemble import VotingRegressor"
   ]
  },
  {
   "cell_type": "code",
   "execution_count": 2,
   "id": "d828a2f0",
   "metadata": {},
   "outputs": [],
   "source": [
    "def load_data(filename: str) -> pd.DataFrame:\n",
    "    with zipfile.ZipFile(f\"../{filename}.zip\") as data_zip:\n",
    "        with data_zip.open(f\"{filename}.csv\") as developer_data:\n",
    "            return pd.read_csv(developer_data)\n"
   ]
  },
  {
   "cell_type": "code",
   "execution_count": 61,
   "id": "3205df19",
   "metadata": {},
   "outputs": [],
   "source": [
    "def custom_accuracy_score(y_true, y_pred):\n",
    "        accuracy_count = 0\n",
    "        y_true = np.array(y_true, dtype='float64')\n",
    "        for true_val, pred_val in zip(y_true, y_pred):\n",
    "            if abs(true_val - pred_val) <= 20000:\n",
    "                accuracy_count += 1\n",
    "\n",
    "        accuracy = accuracy_count / len(y_true)\n",
    "        return accuracy"
   ]
  },
  {
   "cell_type": "code",
   "execution_count": 62,
   "id": "04d953ee",
   "metadata": {},
   "outputs": [],
   "source": [
    "def mean_absolute_error(y_true, y_pred):\n",
    "    absolute_errors = np.abs(y_true - y_pred)\n",
    "    mae = np.mean(absolute_errors)\n",
    "    return mae"
   ]
  },
  {
   "cell_type": "code",
   "execution_count": 63,
   "id": "8ff4dbb5",
   "metadata": {},
   "outputs": [],
   "source": [
    "def modelPredictAndScore(X_valid, y_valid, model, modelName):\n",
    "    predictions = model.predict(X_valid)\n",
    "    custom_score_valid = custom_accuracy_score(y_valid[cs.COMPENSATION], predictions)\n",
    "    rmse_valid = mean_absolute_error(y_valid[cs.COMPENSATION], predictions)\n",
    "\n",
    "    print(f\"{modelName} accuracy is:{custom_score_valid}\")\n",
    "    print(f\"{modelName} root mean square is:{rmse_valid}\")\n",
    "\n"
   ]
  },
  {
   "cell_type": "code",
   "execution_count": 64,
   "id": "87fe233d",
   "metadata": {},
   "outputs": [
    {
     "name": "stdout",
     "output_type": "stream",
     "text": [
      "       CompTotal\n",
      "0   97576.939145\n",
      "1  130000.000000\n",
      "2   52541.428770\n",
      "3   90071.020749\n",
      "4   76560.367637\n",
      "Random_forest_models accuracy is:0.3864528795811518\n",
      "Random_forest_models root mean square is:45493.94137171258\n",
      "SVR_models accuracy is:0.41590314136125656\n",
      "SVR_models root mean square is:43633.06867091712\n",
      "GB_models accuracy is:0.39037958115183247\n",
      "GB_models root mean square is:47821.33329153133\n",
      "XGBoost_models accuracy is:0.3949607329842932\n",
      "XGBoost_models root mean square is:48537.84579108745\n"
     ]
    }
   ],
   "source": [
    "na_data = load_data(cs.NA_TRAIN_DATA)\n",
    "X_valid = load_data(cs.X_VALID)\n",
    "y_valid = load_data(cs.Y_VALID)\n",
    "print(y_valid.head(5))\n",
    "\n",
    "scaler_model = joblib.load(f'{cs.ML_MODELS_FOLDER}/scaler.pkl')\n",
    "svr_model = joblib.load(f'{cs.ML_MODELS_FOLDER}/{cs.BEST_SVR_MODELS}.pkl')\n",
    "rf_model = joblib.load(f'{cs.ML_MODELS_FOLDER}/{cs.BEST_RF_MODELS}.pkl')\n",
    "gb_model = joblib.load(f'{cs.ML_MODELS_FOLDER}/{cs.BEST_GB_MODELS}.pkl')\n",
    "xgboost_model = joblib.load(f'{cs.ML_MODELS_FOLDER}/{cs.BEST_XGBOOST_MODELS}.pkl')\n",
    "\n",
    "modelPredictAndScore(X_valid, y_valid, rf_model, cs.RANDOM_FOREST_MODELS)\n",
    "X_valid_scaled = scaler_model.transform(X_valid)\n",
    "modelPredictAndScore(X_valid_scaled, y_valid, svr_model, cs.SVR_MODELS)\n",
    "modelPredictAndScore(X_valid, y_valid, gb_model, cs.GB_MODELS)\n",
    "modelPredictAndScore(X_valid, y_valid, xgboost_model, cs.XGBOOST_MODELS)"
   ]
  },
  {
   "cell_type": "code",
   "execution_count": 65,
   "id": "62755b33",
   "metadata": {},
   "outputs": [],
   "source": [
    "voting_regressor = VotingRegressor(\n",
    "    estimators=[('rf', rf_model), ('gb', gb_model), ('xgboost', xgboost_model), ('svr', svr_model)]\n",
    ")"
   ]
  },
  {
   "cell_type": "code",
   "execution_count": 66,
   "id": "a284fb1d",
   "metadata": {},
   "outputs": [
    {
     "data": {
      "text/plain": [
       "VotingRegressor(estimators=[('rf',\n",
       "                             RandomForestRegressor(max_depth=125,\n",
       "                                                   min_samples_leaf=10,\n",
       "                                                   n_estimators=150)),\n",
       "                            ('gb',\n",
       "                             GradientBoostingRegressor(learning_rate=0.05,\n",
       "                                                       max_depth=5)),\n",
       "                            ('xgboost',\n",
       "                             XGBRegressor(base_score=None, booster=None,\n",
       "                                          callbacks=None,\n",
       "                                          colsample_bylevel=None,\n",
       "                                          colsample_bynode=None,\n",
       "                                          colsample_bytree=None,\n",
       "                                          early_stopping_rounds=None,\n",
       "                                          enable_categor...\n",
       "                                          interaction_constraints=None,\n",
       "                                          learning_rate=0.05, max_bin=None,\n",
       "                                          max_cat_threshold=None,\n",
       "                                          max_cat_to_onehot=None,\n",
       "                                          max_delta_step=None, max_depth=5,\n",
       "                                          max_leaves=None,\n",
       "                                          min_child_weight=None, missing=nan,\n",
       "                                          monotone_constraints=None,\n",
       "                                          n_estimators=100, n_jobs=None,\n",
       "                                          num_parallel_tree=None,\n",
       "                                          predictor=None, random_state=None, ...)),\n",
       "                            ('svr', SVR(C=100, gamma='auto', kernel='linear'))])"
      ]
     },
     "execution_count": 66,
     "metadata": {},
     "output_type": "execute_result"
    }
   ],
   "source": [
    "X_train = load_data('X_train_data')\n",
    "y_train = load_data('y_train_data')\n",
    "y_train = y_train.values.ravel()\n",
    "voting_regressor.fit(X_train, y_train)"
   ]
  },
  {
   "cell_type": "code",
   "execution_count": 67,
   "id": "325be117",
   "metadata": {},
   "outputs": [
    {
     "name": "stdout",
     "output_type": "stream",
     "text": [
      "Voting Classifier accuracy is:0.44044502617801046\n",
      "Voting Classifier root mean square is:36626.847748986496\n"
     ]
    }
   ],
   "source": [
    "modelPredictAndScore(X_valid, y_valid, voting_regressor, \"Voting Classifier\")"
   ]
  },
  {
   "cell_type": "code",
   "execution_count": null,
   "id": "39ef7456",
   "metadata": {},
   "outputs": [],
   "source": []
  }
 ],
 "metadata": {
  "kernelspec": {
   "display_name": "Python 3 (ipykernel)",
   "language": "python",
   "name": "python3"
  },
  "language_info": {
   "codemirror_mode": {
    "name": "ipython",
    "version": 3
   },
   "file_extension": ".py",
   "mimetype": "text/x-python",
   "name": "python",
   "nbconvert_exporter": "python",
   "pygments_lexer": "ipython3",
   "version": "3.9.17"
  }
 },
 "nbformat": 4,
 "nbformat_minor": 5
}
